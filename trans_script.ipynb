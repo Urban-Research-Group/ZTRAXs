{
 "cells": [
  {
   "cell_type": "markdown",
   "metadata": {},
   "source": [
    "### **Z TRANS DATA EXTRACT & MERGE SCRIPT**"
   ]
  },
  {
   "cell_type": "markdown",
   "metadata": {},
   "source": [
    "**PLACE THIS SCRIPT** in the folder or directory containing the quarterly data folders.\n",
    "\n",
    "For instance, this script should be placed in the same folder or directory, and on the same level (aka, not in its own/separate folder), as the \"20181230\" and \"20190616\" data folders from ZTRAXs.\n",
    "\n",
    "----------------------------------------------------\n",
    "**This script is for ZTRANS DATA; it does the following:**\n",
    "- Works through any selected ZTRAXs data folders.\n",
    "\n",
    "*For each folder:*\n",
    "-   Takes data from selected files and only keeps selected variables from these files.\n",
    "-   Merges the individual selected ZTrans files/variables into a single output file for each selected quarter data file.\n",
    "-   Creates a data_summary file for each merged output file which contains original and new summary statistics as well as the total number of dropped duplicate rows and execution time.\n",
    "----------------------------------------------------\n",
    "\n",
    "**TO RUN** the scipt, simply click the run button that appears near the top left of the first cell. \n",
    "\n",
    "Only run this cell, unless changes are made to any other cells. If other cells are changed, run the changed cells individually before running the main (first) cell again.\n",
    "\n",
    "**Potential improvements:**\n",
    "*This script was written for quick results/development rather than maintainability*. All data that needs to be changed by the user to run the script on a different ZTRAX dataset should be in one place for ease of use/modification.\n",
    "Further, there is repetition in creating the dataframes from each separate file. Future development can remove these separate functions for each pre-defined file and create a single function which takes the file of interest as its parameter. This will benefit maintainability and allow the user to easily add additional files of interest; right now, the script assumes we will always want to extract the same individual files from each ZTrans data folder.\n"
   ]
  },
  {
   "cell_type": "code",
   "execution_count": 30,
   "metadata": {},
   "outputs": [
    {
     "name": "stdout",
     "output_type": "stream",
     "text": [
      "Current Folder:  20181230\n"
     ]
    },
    {
     "name": "stderr",
     "output_type": "stream",
     "text": [
      "C:\\Users\\NPOLIM~1\\AppData\\Local\\Temp\\7/ipykernel_18576/190030096.py:4: DtypeWarning: Columns (1,2,3,4,5,7,8,9,11,12,13,19,20,21,22,23,24,25,26,27,29,30,31,32,33,34,35,36,37,39,40,42,43,44,45,47,48,49,50,51,54,59,60,61) have mixed types.Specify dtype option on import or set low_memory=False.\n",
      "  dataframes[\"propertyInfo\"] = get_propertyInfo(folder)\n",
      "C:\\Users\\NPOLIM~1\\AppData\\Local\\Temp\\7/ipykernel_18576/190030096.py:5: DtypeWarning: Columns (7,8,9,10,11,12,17,18,19,20,22,30,31,32,33,34,35,36,37,38,39,40,42,50,51,52,54,55,56,57,58,60,62,63,65,66,67,71,74,75,82,84,85,86,87,88,89,90,91,92,93,94,95,96,97,98,100,106,107,109,111,112,113,114,116,117,119) have mixed types.Specify dtype option on import or set low_memory=False.\n",
      "  dataframes[\"main\"] = get_main(folder)\n",
      "C:\\Users\\NPOLIM~1\\AppData\\Local\\Temp\\7/ipykernel_18576/190030096.py:6: DtypeWarning: Columns (4,8,16,20,22,31,32,33) have mixed types.Specify dtype option on import or set low_memory=False.\n",
      "  dataframes[\"sellerMailAddress\"] = get_sellerMailAddress(folder)\n",
      "C:\\Users\\NPOLIM~1\\AppData\\Local\\Temp\\7/ipykernel_18576/190030096.py:7: DtypeWarning: Columns (2,3,4,5,6,7,8,11,12,13,15,16,17,18,20,21,22,23,31,32,33) have mixed types.Specify dtype option on import or set low_memory=False.\n",
      "  dataframes[\"buyerMailAddress\"] = get_buyerMailAddress(folder)\n"
     ]
    },
    {
     "name": "stdout",
     "output_type": "stream",
     "text": [
      "Created dataframes\n",
      "Dropped duplicates\n",
      "Merged\n",
      "Wrote file\n",
      "Created summary\n",
      "Completed 20181230. Execution time (seconds): 991.3085854053497\n",
      "\n",
      "Current Folder:  20190319\n"
     ]
    },
    {
     "name": "stderr",
     "output_type": "stream",
     "text": [
      "C:\\Users\\NPOLIM~1\\AppData\\Local\\Temp\\7/ipykernel_18576/190030096.py:4: DtypeWarning: Columns (1,2,3,4,5,6,7,8,9,11,12,13,19,20,21,22,23,24,25,26,27,28,29,30,31,32,33,34,35,36,37,39,40,42,43,44,45,47,48,49,50,51,54,59,60,61) have mixed types.Specify dtype option on import or set low_memory=False.\n",
      "  dataframes[\"propertyInfo\"] = get_propertyInfo(folder)\n",
      "C:\\Users\\NPOLIM~1\\AppData\\Local\\Temp\\7/ipykernel_18576/190030096.py:5: DtypeWarning: Columns (7,8,9,10,11,12,17,18,19,20,22,30,31,32,33,34,35,36,37,38,39,40,42,50,51,52,54,55,56,57,58,60,62,63,65,66,67,71,74,75,82,84,85,86,87,88,89,90,91,92,93,94,95,96,97,98,100,106,107,109,111,112,113,114,116,117,119) have mixed types.Specify dtype option on import or set low_memory=False.\n",
      "  dataframes[\"main\"] = get_main(folder)\n",
      "C:\\Users\\NPOLIM~1\\AppData\\Local\\Temp\\7/ipykernel_18576/190030096.py:6: DtypeWarning: Columns (4,20) have mixed types.Specify dtype option on import or set low_memory=False.\n",
      "  dataframes[\"sellerMailAddress\"] = get_sellerMailAddress(folder)\n",
      "C:\\Users\\NPOLIM~1\\AppData\\Local\\Temp\\7/ipykernel_18576/190030096.py:7: DtypeWarning: Columns (2,3,4,5,6,7,8,11,12,13,15,16,17,18,20,21,22,23,31,32,33) have mixed types.Specify dtype option on import or set low_memory=False.\n",
      "  dataframes[\"buyerMailAddress\"] = get_buyerMailAddress(folder)\n"
     ]
    },
    {
     "name": "stdout",
     "output_type": "stream",
     "text": [
      "Created dataframes\n",
      "Dropped duplicates\n",
      "Merged\n",
      "Wrote file\n",
      "Created summary\n",
      "Completed 20190319. Execution time (seconds): 2028.1399517059326\n",
      "\n",
      "Current Folder:  20190616\n"
     ]
    },
    {
     "name": "stderr",
     "output_type": "stream",
     "text": [
      "C:\\Users\\NPOLIM~1\\AppData\\Local\\Temp\\7/ipykernel_18576/190030096.py:4: DtypeWarning: Columns (1,2,3,4,5,6,7,8,9,11,12,19,20,21,22,23,24,25,26,27,28,29,30,31,32,33,34,35,36,37,38,39,40,42,43,44,45,47,48,49,50,51,54,59,60,61) have mixed types.Specify dtype option on import or set low_memory=False.\n",
      "  dataframes[\"propertyInfo\"] = get_propertyInfo(folder)\n",
      "C:\\Users\\NPOLIM~1\\AppData\\Local\\Temp\\7/ipykernel_18576/190030096.py:5: DtypeWarning: Columns (7,8,9,10,11,12,17,18,19,20,22,30,31,32,33,34,35,36,37,38,39,40,42,50,51,52,54,55,56,57,58,60,62,63,65,66,67,71,74,75,82,83,84,85,86,87,88,89,90,91,92,93,94,95,96,97,98,100,106,107,109,111,112,113,114,116,117,119) have mixed types.Specify dtype option on import or set low_memory=False.\n",
      "  dataframes[\"main\"] = get_main(folder)\n",
      "C:\\Users\\NPOLIM~1\\AppData\\Local\\Temp\\7/ipykernel_18576/190030096.py:6: DtypeWarning: Columns (4,15) have mixed types.Specify dtype option on import or set low_memory=False.\n",
      "  dataframes[\"sellerMailAddress\"] = get_sellerMailAddress(folder)\n",
      "C:\\Users\\NPOLIM~1\\AppData\\Local\\Temp\\7/ipykernel_18576/190030096.py:7: DtypeWarning: Columns (2,3,4,6,7,11,12,14,15,16,17,18,20,21,23,31,32,33) have mixed types.Specify dtype option on import or set low_memory=False.\n",
      "  dataframes[\"buyerMailAddress\"] = get_buyerMailAddress(folder)\n"
     ]
    },
    {
     "name": "stdout",
     "output_type": "stream",
     "text": [
      "Created dataframes\n",
      "Dropped duplicates\n",
      "Merged\n",
      "Wrote file\n",
      "Created summary\n",
      "Completed 20190616. Execution time (seconds): 3102.0462307929993\n",
      "\n",
      "Current Folder:  20190918\n"
     ]
    },
    {
     "name": "stderr",
     "output_type": "stream",
     "text": [
      "C:\\Users\\NPOLIM~1\\AppData\\Local\\Temp\\7/ipykernel_18576/190030096.py:4: DtypeWarning: Columns (1,2,3,4,5,6,7,8,9,11,12,19,20,21,22,23,24,25,26,27,28,29,30,31,32,33,34,35,36,37,38,39,40,42,43,44,45,47,48,49,50,51,54,59,60,61) have mixed types.Specify dtype option on import or set low_memory=False.\n",
      "  dataframes[\"propertyInfo\"] = get_propertyInfo(folder)\n",
      "C:\\Users\\NPOLIM~1\\AppData\\Local\\Temp\\7/ipykernel_18576/190030096.py:5: DtypeWarning: Columns (7,8,9,10,11,12,17,18,19,20,22,30,31,32,33,34,35,36,37,38,39,40,42,50,51,52,54,55,56,57,58,60,62,63,65,66,67,71,74,75,82,83,84,85,86,87,88,89,90,91,92,93,94,95,96,97,98,100,106,107,109,111,112,113,114,116,117,119) have mixed types.Specify dtype option on import or set low_memory=False.\n",
      "  dataframes[\"main\"] = get_main(folder)\n",
      "C:\\Users\\NPOLIM~1\\AppData\\Local\\Temp\\7/ipykernel_18576/190030096.py:6: DtypeWarning: Columns (4,8,15,16,20,22,31,32,33) have mixed types.Specify dtype option on import or set low_memory=False.\n",
      "  dataframes[\"sellerMailAddress\"] = get_sellerMailAddress(folder)\n",
      "C:\\Users\\NPOLIM~1\\AppData\\Local\\Temp\\7/ipykernel_18576/190030096.py:7: DtypeWarning: Columns (2,3,4,5,6,7,8,9,11,12,13,14,15,16,17,18,20,21,22,31,32,33) have mixed types.Specify dtype option on import or set low_memory=False.\n",
      "  dataframes[\"buyerMailAddress\"] = get_buyerMailAddress(folder)\n"
     ]
    },
    {
     "name": "stdout",
     "output_type": "stream",
     "text": [
      "Created dataframes\n",
      "Dropped duplicates\n",
      "Merged\n",
      "Wrote file\n",
      "Created summary\n",
      "Completed 20190918. Execution time (seconds): 4220.619454860687\n",
      "\n",
      "Current Folder:  20191009\n"
     ]
    },
    {
     "name": "stderr",
     "output_type": "stream",
     "text": [
      "C:\\Users\\NPOLIM~1\\AppData\\Local\\Temp\\7/ipykernel_18576/190030096.py:4: DtypeWarning: Columns (1,2,3,4,5,6,7,8,9,11,12,14,19,20,21,22,23,24,25,26,27,28,29,30,31,32,33,34,35,36,37,38,39,40,42,43,44,45,47,48,49,50,51,54,59,60,61) have mixed types.Specify dtype option on import or set low_memory=False.\n",
      "  dataframes[\"propertyInfo\"] = get_propertyInfo(folder)\n",
      "C:\\Users\\NPOLIM~1\\AppData\\Local\\Temp\\7/ipykernel_18576/190030096.py:5: DtypeWarning: Columns (7,8,9,10,11,12,17,18,19,20,22,30,31,32,33,34,35,36,37,38,39,40,42,50,51,52,54,55,56,57,58,60,62,63,65,66,67,71,74,75,82,83,84,85,86,87,88,89,90,91,92,93,94,95,96,97,98,100,106,107,109,111,112,113,114,116,117,119) have mixed types.Specify dtype option on import or set low_memory=False.\n",
      "  dataframes[\"main\"] = get_main(folder)\n",
      "C:\\Users\\NPOLIM~1\\AppData\\Local\\Temp\\7/ipykernel_18576/190030096.py:6: DtypeWarning: Columns (4,15) have mixed types.Specify dtype option on import or set low_memory=False.\n",
      "  dataframes[\"sellerMailAddress\"] = get_sellerMailAddress(folder)\n",
      "C:\\Users\\NPOLIM~1\\AppData\\Local\\Temp\\7/ipykernel_18576/190030096.py:7: DtypeWarning: Columns (2,3,4,6,7,9,11,12,14,15,16,17,18,20,21,31,32,33) have mixed types.Specify dtype option on import or set low_memory=False.\n",
      "  dataframes[\"buyerMailAddress\"] = get_buyerMailAddress(folder)\n",
      "C:\\Users\\NPOLIM~1\\AppData\\Local\\Temp\\7/ipykernel_18576/190030096.py:9: DtypeWarning: Columns (1,2,3) have mixed types.Specify dtype option on import or set low_memory=False.\n",
      "  dataframes[\"sellerName\"] = get_sellerName(folder)\n"
     ]
    },
    {
     "name": "stdout",
     "output_type": "stream",
     "text": [
      "Created dataframes\n",
      "Dropped duplicates\n",
      "Merged\n",
      "Wrote file\n",
      "Created summary\n",
      "Completed 20191009. Execution time (seconds): 5342.93445110321\n",
      "\n",
      "Current Folder:  20200102\n"
     ]
    },
    {
     "name": "stderr",
     "output_type": "stream",
     "text": [
      "C:\\Users\\NPOLIM~1\\AppData\\Local\\Temp\\7/ipykernel_18576/190030096.py:4: DtypeWarning: Columns (1,2,3,4,5,6,7,8,11,12,14,19,20,21,22,23,24,25,26,27,28,29,30,31,32,33,34,35,36,37,38,39,40,42,43,44,45,47,48,49,50,51,54,59,60,61) have mixed types.Specify dtype option on import or set low_memory=False.\n",
      "  dataframes[\"propertyInfo\"] = get_propertyInfo(folder)\n",
      "C:\\Users\\NPOLIM~1\\AppData\\Local\\Temp\\7/ipykernel_18576/190030096.py:5: DtypeWarning: Columns (7,8,9,10,11,12,17,18,19,20,22,30,31,32,33,34,35,36,37,38,39,40,42,50,51,52,54,55,56,57,58,60,62,63,65,66,67,71,74,75,82,83,84,85,86,87,88,89,90,91,92,93,94,95,96,97,98,100,106,107,109,111,112,113,114,116,117,119) have mixed types.Specify dtype option on import or set low_memory=False.\n",
      "  dataframes[\"main\"] = get_main(folder)\n",
      "C:\\Users\\NPOLIM~1\\AppData\\Local\\Temp\\7/ipykernel_18576/190030096.py:6: DtypeWarning: Columns (15) have mixed types.Specify dtype option on import or set low_memory=False.\n",
      "  dataframes[\"sellerMailAddress\"] = get_sellerMailAddress(folder)\n",
      "C:\\Users\\NPOLIM~1\\AppData\\Local\\Temp\\7/ipykernel_18576/190030096.py:7: DtypeWarning: Columns (2,3,4,6,7,9,11,12,14,15,16,17,18,20,21,31,32,33) have mixed types.Specify dtype option on import or set low_memory=False.\n",
      "  dataframes[\"buyerMailAddress\"] = get_buyerMailAddress(folder)\n"
     ]
    },
    {
     "name": "stdout",
     "output_type": "stream",
     "text": [
      "Created dataframes\n",
      "Dropped duplicates\n",
      "Merged\n",
      "Wrote file\n",
      "Created summary\n",
      "Completed 20200102. Execution time (seconds): 6510.534721136093\n",
      "\n",
      "Current Folder:  20200407\n"
     ]
    },
    {
     "name": "stderr",
     "output_type": "stream",
     "text": [
      "C:\\Users\\NPOLIM~1\\AppData\\Local\\Temp\\7/ipykernel_18576/190030096.py:4: DtypeWarning: Columns (1,2,3,4,5,6,7,8,11,12,14,19,20,21,22,23,24,25,26,27,28,29,30,31,32,33,34,35,36,37,38,39,40,42,43,44,45,47,48,49,50,51,54,59,60,61) have mixed types.Specify dtype option on import or set low_memory=False.\n",
      "  dataframes[\"propertyInfo\"] = get_propertyInfo(folder)\n",
      "C:\\Users\\NPOLIM~1\\AppData\\Local\\Temp\\7/ipykernel_18576/190030096.py:5: DtypeWarning: Columns (7,8,9,10,11,12,14,17,18,19,20,22,30,31,32,33,34,35,36,37,38,39,40,42,50,51,52,54,55,56,57,58,60,62,63,65,66,67,71,74,75,82,83,84,85,86,87,88,89,90,91,92,93,94,95,96,97,98,100,106,107,109,111,112,113,114,116,117,119) have mixed types.Specify dtype option on import or set low_memory=False.\n",
      "  dataframes[\"main\"] = get_main(folder)\n",
      "C:\\Users\\NPOLIM~1\\AppData\\Local\\Temp\\7/ipykernel_18576/190030096.py:6: DtypeWarning: Columns (15) have mixed types.Specify dtype option on import or set low_memory=False.\n",
      "  dataframes[\"sellerMailAddress\"] = get_sellerMailAddress(folder)\n",
      "C:\\Users\\NPOLIM~1\\AppData\\Local\\Temp\\7/ipykernel_18576/190030096.py:7: DtypeWarning: Columns (2,3,4,6,7,9,10,11,12,14,16,17,18,20,21,32) have mixed types.Specify dtype option on import or set low_memory=False.\n",
      "  dataframes[\"buyerMailAddress\"] = get_buyerMailAddress(folder)\n"
     ]
    },
    {
     "name": "stdout",
     "output_type": "stream",
     "text": [
      "Created dataframes\n",
      "Dropped duplicates\n",
      "Merged\n",
      "Wrote file\n",
      "Created summary\n",
      "Completed 20200407. Execution time (seconds): 7700.800858259201\n",
      "\n",
      "Current Folder:  20200811\n"
     ]
    },
    {
     "name": "stderr",
     "output_type": "stream",
     "text": [
      "C:\\Users\\NPOLIM~1\\AppData\\Local\\Temp\\7/ipykernel_18576/190030096.py:4: DtypeWarning: Columns (1,2,3,4,5,6,7,8,9,11,12,14,19,20,21,22,23,24,25,26,27,28,29,30,31,32,33,34,35,36,37,38,39,40,42,43,44,45,47,48,49,50,51,59,60,61) have mixed types.Specify dtype option on import or set low_memory=False.\n",
      "  dataframes[\"propertyInfo\"] = get_propertyInfo(folder)\n",
      "C:\\Users\\NPOLIM~1\\AppData\\Local\\Temp\\7/ipykernel_18576/190030096.py:5: DtypeWarning: Columns (7,8,9,10,11,12,14,17,18,19,20,22,30,31,32,33,34,35,36,37,38,39,40,42,50,51,52,54,55,56,57,58,60,62,63,65,66,67,71,74,75,82,83,84,85,86,87,88,89,90,91,92,93,94,95,96,97,98,100,106,107,109,111,112,113,114,116,117,119) have mixed types.Specify dtype option on import or set low_memory=False.\n",
      "  dataframes[\"main\"] = get_main(folder)\n",
      "C:\\Users\\NPOLIM~1\\AppData\\Local\\Temp\\7/ipykernel_18576/190030096.py:6: DtypeWarning: Columns (15) have mixed types.Specify dtype option on import or set low_memory=False.\n",
      "  dataframes[\"sellerMailAddress\"] = get_sellerMailAddress(folder)\n",
      "C:\\Users\\NPOLIM~1\\AppData\\Local\\Temp\\7/ipykernel_18576/190030096.py:7: DtypeWarning: Columns (2,3,4,6,7,9,10,11,12,14,16,17,18,20,21,32) have mixed types.Specify dtype option on import or set low_memory=False.\n",
      "  dataframes[\"buyerMailAddress\"] = get_buyerMailAddress(folder)\n"
     ]
    },
    {
     "name": "stdout",
     "output_type": "stream",
     "text": [
      "Created dataframes\n",
      "Dropped duplicates\n",
      "Merged\n",
      "Wrote file\n",
      "Created summary\n",
      "Completed 20200811. Execution time (seconds): 8919.879530668259\n",
      "\n",
      "Current Folder:  20201012\n"
     ]
    },
    {
     "name": "stderr",
     "output_type": "stream",
     "text": [
      "C:\\Users\\NPOLIM~1\\AppData\\Local\\Temp\\7/ipykernel_18576/190030096.py:4: DtypeWarning: Columns (1,2,3,4,5,6,7,8,9,11,12,14,19,20,21,22,23,24,25,26,27,28,29,30,31,32,33,34,35,36,37,38,39,40,42,43,44,45,47,48,49,50,51,59,60,61) have mixed types.Specify dtype option on import or set low_memory=False.\n",
      "  dataframes[\"propertyInfo\"] = get_propertyInfo(folder)\n",
      "C:\\Users\\NPOLIM~1\\AppData\\Local\\Temp\\7/ipykernel_18576/190030096.py:5: DtypeWarning: Columns (7,8,9,10,11,12,14,17,18,19,20,22,30,31,32,33,34,35,36,37,38,39,40,42,50,51,52,54,55,56,57,58,60,62,63,65,66,67,71,74,75,82,83,84,85,86,87,88,89,90,91,92,93,94,95,96,97,98,100,106,107,109,111,112,113,114,116,117,119) have mixed types.Specify dtype option on import or set low_memory=False.\n",
      "  dataframes[\"main\"] = get_main(folder)\n",
      "C:\\Users\\NPOLIM~1\\AppData\\Local\\Temp\\7/ipykernel_18576/190030096.py:6: DtypeWarning: Columns (15) have mixed types.Specify dtype option on import or set low_memory=False.\n",
      "  dataframes[\"sellerMailAddress\"] = get_sellerMailAddress(folder)\n",
      "C:\\Users\\NPOLIM~1\\AppData\\Local\\Temp\\7/ipykernel_18576/190030096.py:7: DtypeWarning: Columns (2,3,4,6,7,9,10,11,12,14,15,16,17,18,20,21,31,32,33) have mixed types.Specify dtype option on import or set low_memory=False.\n",
      "  dataframes[\"buyerMailAddress\"] = get_buyerMailAddress(folder)\n"
     ]
    },
    {
     "name": "stdout",
     "output_type": "stream",
     "text": [
      "Created dataframes\n",
      "Dropped duplicates\n",
      "Merged\n",
      "Wrote file\n",
      "Created summary\n",
      "Completed 20201012. Execution time (seconds): 10181.633672237396\n",
      "\n",
      "Current Folder:  20210111\n"
     ]
    },
    {
     "name": "stderr",
     "output_type": "stream",
     "text": [
      "C:\\Users\\NPOLIM~1\\AppData\\Local\\Temp\\7/ipykernel_18576/190030096.py:4: DtypeWarning: Columns (1,2,3,4,5,6,7,8,14,19,20,21,22,23,24,25,26,27,28,29,30,31,32,33,34,35,36,37,38,39,40,42,43,44,45,47,48,49,51,59,60,61) have mixed types.Specify dtype option on import or set low_memory=False.\n",
      "  dataframes[\"propertyInfo\"] = get_propertyInfo(folder)\n",
      "C:\\Users\\NPOLIM~1\\AppData\\Local\\Temp\\7/ipykernel_18576/190030096.py:5: DtypeWarning: Columns (7,8,9,10,11,12,14,17,18,19,20,22,30,31,32,33,34,35,36,37,38,39,40,42,50,51,52,54,55,56,57,58,60,62,63,65,66,67,71,74,75,82,83,84,85,86,87,88,89,90,91,92,93,94,95,96,97,98,100,106,107,109,111,112,113,114,116,117,119) have mixed types.Specify dtype option on import or set low_memory=False.\n",
      "  dataframes[\"main\"] = get_main(folder)\n",
      "C:\\Users\\NPOLIM~1\\AppData\\Local\\Temp\\7/ipykernel_18576/190030096.py:6: DtypeWarning: Columns (15) have mixed types.Specify dtype option on import or set low_memory=False.\n",
      "  dataframes[\"sellerMailAddress\"] = get_sellerMailAddress(folder)\n",
      "C:\\Users\\NPOLIM~1\\AppData\\Local\\Temp\\7/ipykernel_18576/190030096.py:7: DtypeWarning: Columns (2,3,4,9,10,14,16,17,18,21) have mixed types.Specify dtype option on import or set low_memory=False.\n",
      "  dataframes[\"buyerMailAddress\"] = get_buyerMailAddress(folder)\n",
      "C:\\Users\\NPOLIM~1\\AppData\\Local\\Temp\\7/ipykernel_18576/190030096.py:9: DtypeWarning: Columns (1,2,3) have mixed types.Specify dtype option on import or set low_memory=False.\n",
      "  dataframes[\"sellerName\"] = get_sellerName(folder)\n"
     ]
    },
    {
     "name": "stdout",
     "output_type": "stream",
     "text": [
      "Created dataframes\n",
      "Dropped duplicates\n",
      "Merged\n",
      "Wrote file\n",
      "Created summary\n",
      "Completed 20210111. Execution time (seconds): 11469.96124625206\n",
      "\n",
      "Current Folder:  20210405\n"
     ]
    },
    {
     "name": "stderr",
     "output_type": "stream",
     "text": [
      "C:\\Users\\NPOLIM~1\\AppData\\Local\\Temp\\7/ipykernel_18576/190030096.py:4: DtypeWarning: Columns (1,2,3,4,5,6,7,8,9,14,19,20,21,22,23,24,25,26,27,28,29,30,31,32,33,34,35,36,37,38,39,40,42,43,44,45,47,48,49,51,59,60,61) have mixed types.Specify dtype option on import or set low_memory=False.\n",
      "  dataframes[\"propertyInfo\"] = get_propertyInfo(folder)\n",
      "C:\\Users\\NPOLIM~1\\AppData\\Local\\Temp\\7/ipykernel_18576/190030096.py:5: DtypeWarning: Columns (7,8,9,10,11,12,14,17,18,19,20,22,30,31,32,33,34,35,36,37,38,39,40,42,50,51,52,54,55,56,57,58,60,62,63,65,66,67,71,74,75,82,83,84,85,86,87,88,89,90,91,92,93,94,95,96,97,98,100,106,107,109,111,112,113,114,116,117,119) have mixed types.Specify dtype option on import or set low_memory=False.\n",
      "  dataframes[\"main\"] = get_main(folder)\n",
      "C:\\Users\\NPOLIM~1\\AppData\\Local\\Temp\\7/ipykernel_18576/190030096.py:6: DtypeWarning: Columns (15) have mixed types.Specify dtype option on import or set low_memory=False.\n",
      "  dataframes[\"sellerMailAddress\"] = get_sellerMailAddress(folder)\n",
      "C:\\Users\\NPOLIM~1\\AppData\\Local\\Temp\\7/ipykernel_18576/190030096.py:7: DtypeWarning: Columns (2,3,4,9,10,14,16,17,18) have mixed types.Specify dtype option on import or set low_memory=False.\n",
      "  dataframes[\"buyerMailAddress\"] = get_buyerMailAddress(folder)\n"
     ]
    },
    {
     "name": "stdout",
     "output_type": "stream",
     "text": [
      "Created dataframes\n",
      "Dropped duplicates\n",
      "Merged\n",
      "Wrote file\n",
      "Created summary\n",
      "Completed 20210405. Execution time (seconds): 12794.764294862747\n",
      "\n",
      "Current Folder:  20210802\n"
     ]
    },
    {
     "name": "stderr",
     "output_type": "stream",
     "text": [
      "C:\\Users\\NPOLIM~1\\AppData\\Local\\Temp\\7/ipykernel_18576/190030096.py:4: DtypeWarning: Columns (1,2,3,4,5,6,7,8,9,14,19,20,21,22,23,24,25,26,27,28,29,30,31,32,33,34,35,36,37,38,39,40,42,43,44,45,47,48,49,51) have mixed types.Specify dtype option on import or set low_memory=False.\n",
      "  dataframes[\"propertyInfo\"] = get_propertyInfo(folder)\n",
      "C:\\Users\\NPOLIM~1\\AppData\\Local\\Temp\\7/ipykernel_18576/190030096.py:5: DtypeWarning: Columns (7,8,9,10,11,12,14,17,18,19,20,22,30,31,32,33,34,35,36,37,38,39,40,42,50,51,52,54,55,56,57,58,60,62,63,65,66,67,71,74,75,82,83,84,85,86,87,88,89,90,91,92,93,94,95,96,97,98,100,106,107,109,111,112,113,114,116,117,119) have mixed types.Specify dtype option on import or set low_memory=False.\n",
      "  dataframes[\"main\"] = get_main(folder)\n",
      "C:\\Users\\NPOLIM~1\\AppData\\Local\\Temp\\7/ipykernel_18576/190030096.py:6: DtypeWarning: Columns (15) have mixed types.Specify dtype option on import or set low_memory=False.\n",
      "  dataframes[\"sellerMailAddress\"] = get_sellerMailAddress(folder)\n",
      "C:\\Users\\NPOLIM~1\\AppData\\Local\\Temp\\7/ipykernel_18576/190030096.py:7: DtypeWarning: Columns (2,3,4,9,10,14,15,16,17,18,31,32,33) have mixed types.Specify dtype option on import or set low_memory=False.\n",
      "  dataframes[\"buyerMailAddress\"] = get_buyerMailAddress(folder)\n"
     ]
    },
    {
     "name": "stdout",
     "output_type": "stream",
     "text": [
      "Created dataframes\n",
      "Dropped duplicates\n",
      "Merged\n",
      "Wrote file\n",
      "Created summary\n",
      "Completed 20210802. Execution time (seconds): 14151.533039331436\n",
      "\n",
      "Current Folder:  20211018\n"
     ]
    },
    {
     "name": "stderr",
     "output_type": "stream",
     "text": [
      "C:\\Users\\NPOLIM~1\\AppData\\Local\\Temp\\7/ipykernel_18576/190030096.py:4: DtypeWarning: Columns (1,2,3,4,5,6,7,8,9,14,19,20,21,22,23,24,25,26,27,28,29,30,31,32,33,34,35,36,37,38,39,40,42,43,44,45,47,48,49,51) have mixed types.Specify dtype option on import or set low_memory=False.\n",
      "  dataframes[\"propertyInfo\"] = get_propertyInfo(folder)\n",
      "C:\\Users\\NPOLIM~1\\AppData\\Local\\Temp\\7/ipykernel_18576/190030096.py:5: DtypeWarning: Columns (7,8,9,10,11,12,14,17,18,19,20,22,30,31,32,33,34,35,36,37,38,39,40,42,50,51,52,54,55,56,57,58,60,62,63,65,66,67,71,74,75,82,83,84,85,86,87,88,89,90,91,92,93,94,95,96,97,98,100,106,107,109,111,112,113,114,116,117,119) have mixed types.Specify dtype option on import or set low_memory=False.\n",
      "  dataframes[\"main\"] = get_main(folder)\n",
      "C:\\Users\\NPOLIM~1\\AppData\\Local\\Temp\\7/ipykernel_18576/190030096.py:6: DtypeWarning: Columns (15) have mixed types.Specify dtype option on import or set low_memory=False.\n",
      "  dataframes[\"sellerMailAddress\"] = get_sellerMailAddress(folder)\n",
      "C:\\Users\\NPOLIM~1\\AppData\\Local\\Temp\\7/ipykernel_18576/190030096.py:7: DtypeWarning: Columns (2,3,4,6,7,9,10,11,12,14,15,16,17,18,20,21,31,32,33) have mixed types.Specify dtype option on import or set low_memory=False.\n",
      "  dataframes[\"buyerMailAddress\"] = get_buyerMailAddress(folder)\n"
     ]
    },
    {
     "name": "stdout",
     "output_type": "stream",
     "text": [
      "Created dataframes\n",
      "Dropped duplicates\n",
      "Merged\n",
      "Wrote file\n",
      "Created summary\n",
      "Completed 20211018. Execution time (seconds): 15732.553567886353\n",
      "\n",
      "Current Folder:  20220429\n"
     ]
    },
    {
     "name": "stderr",
     "output_type": "stream",
     "text": [
      "C:\\Users\\NPOLIM~1\\AppData\\Local\\Temp\\7/ipykernel_18576/190030096.py:4: DtypeWarning: Columns (1,2,3,4,5,6,7,8,9,11,12,14,19,20,21,22,23,24,25,26,27,28,29,30,31,32,33,34,35,36,37,39,40,42,43,44,45,47,48,49,50,51,54,59,60,61) have mixed types.Specify dtype option on import or set low_memory=False.\n",
      "  dataframes[\"propertyInfo\"] = get_propertyInfo(folder)\n",
      "C:\\Users\\NPOLIM~1\\AppData\\Local\\Temp\\7/ipykernel_18576/190030096.py:5: DtypeWarning: Columns (7,8,9,10,11,12,14,18,19,20,21,22,30,31,32,33,34,35,36,37,38,39,40,41,42,46,49,50,51,52,54,55,56,57,58,60,62,63,64,65,66,67,71,74,75,82,83,84,85,86,87,88,89,90,91,92,93,94,95,96,97,98,100,106,107,109,111,112,113,114,117,119,120,121,123,126) have mixed types.Specify dtype option on import or set low_memory=False.\n",
      "  dataframes[\"main\"] = get_main(folder)\n",
      "C:\\Users\\NPOLIM~1\\AppData\\Local\\Temp\\7/ipykernel_18576/190030096.py:6: DtypeWarning: Columns (15) have mixed types.Specify dtype option on import or set low_memory=False.\n",
      "  dataframes[\"sellerMailAddress\"] = get_sellerMailAddress(folder)\n",
      "C:\\Users\\NPOLIM~1\\AppData\\Local\\Temp\\7/ipykernel_18576/190030096.py:7: DtypeWarning: Columns (2,3,4,6,7,9,10,11,12,14,16,17,18,20,21,32) have mixed types.Specify dtype option on import or set low_memory=False.\n",
      "  dataframes[\"buyerMailAddress\"] = get_buyerMailAddress(folder)\n"
     ]
    },
    {
     "name": "stdout",
     "output_type": "stream",
     "text": [
      "Created dataframes\n",
      "Dropped duplicates\n",
      "Merged\n",
      "Wrote file\n",
      "Created summary\n",
      "Completed 20220429. Execution time (seconds): 16625.930213928223\n",
      "\n"
     ]
    }
   ],
   "source": [
    "import pandas as pd\n",
    "import time\n",
    "\n",
    "folders = [\"20181230\", \"20190319\", \"20190616\", \"20190918\", \"20191009\", \"20200102\", \"20200407\", \"20200811\", \"20201012\", \"20210111\", \"20210405\", \"20210802\", \"20211018\", \"20220429\"]\n",
    "\n",
    "def main():\n",
    "    start_time = time.time()\n",
    "\n",
    "    for folder in folders:\n",
    "        print(\"Current Folder: \", folder)\n",
    "\n",
    "        dataframes = create_dfs_from_files(folder)\n",
    "        print(\"Created dataframes\")\n",
    "\n",
    "        drop_counties(dataframes[\"main\"])\n",
    "        print(\"Dropped duplicates\")\n",
    "\n",
    "        merged, num_dropped = merge(dataframes)\n",
    "        print(\"Merged\")\n",
    "\n",
    "        write_file(folder, merged)\n",
    "        print(\"Wrote file\")\n",
    "\n",
    "        exec_time = time.time() - start_time\n",
    "\n",
    "        create_summary(folder, merged, dataframes, num_dropped, exec_time)\n",
    "        print(\"Created summary\")\n",
    "        \n",
    "        print(\"Completed \" + folder + \". Execution time (seconds): \" + str(exec_time))\n",
    "        print(\"\")\n",
    "\n",
    "\n",
    "#RUN SCRIPT\n",
    "main()"
   ]
  },
  {
   "cell_type": "code",
   "execution_count": 15,
   "metadata": {},
   "outputs": [],
   "source": [
    "def create_dfs_from_files(folder):\n",
    "    dataframes = {}\n",
    "    dataframes[\"foreclosureName\"] = get_foreclosureName(folder)\n",
    "    dataframes[\"propertyInfo\"] = get_propertyInfo(folder)\n",
    "    dataframes[\"main\"] = get_main(folder)\n",
    "    dataframes[\"sellerMailAddress\"] = get_sellerMailAddress(folder)\n",
    "    dataframes[\"buyerMailAddress\"] = get_buyerMailAddress(folder)\n",
    "    dataframes[\"buyerName\"] = get_buyerName(folder)\n",
    "    dataframes[\"sellerName\"] = get_sellerName(folder)\n",
    "    return dataframes\n"
   ]
  },
  {
   "cell_type": "markdown",
   "metadata": {},
   "source": [
    "The following get methods read in the corresponding data files, selecting only the variables of interest and giving those columns their proper names manually."
   ]
  },
  {
   "cell_type": "code",
   "execution_count": 16,
   "metadata": {},
   "outputs": [],
   "source": [
    "def get_foreclosureName(folder): \n",
    "    ForeclosureNameAddress = pd.read_csv(folder + '\\\\ZTrans\\\\ForeclosureNameAddress.txt', sep='|', on_bad_lines='skip')\n",
    "\n",
    "    ForeclosureNameAddress = ForeclosureNameAddress.iloc[:, [0, 2, 3, 4, 5, 7, 9, 11, 12, 14, 15]]\n",
    "\n",
    "    ForeclosureNameAddress.columns = [\"TransId\", \"FCMailFirstMiddleName\", \"FCMailLastName\", \"FCMailIndividualFullName\", \"FCMailNonIndividualName\", \"FCMailFullStreetAddress\", \"FCMailBuildingNumber\", \"FCMailUnit\", \"FCMailCity\", \"FCMailZip\", \"FCMailZip4\"]\n",
    "\n",
    "    return ForeclosureNameAddress"
   ]
  },
  {
   "cell_type": "code",
   "execution_count": 17,
   "metadata": {},
   "outputs": [],
   "source": [
    "def get_propertyInfo(folder):\n",
    "    PropertyInfo = pd.read_csv(folder + '\\\\ZTrans\\\\PropertyInfo.txt', sep='|', on_bad_lines='skip')\n",
    "\n",
    "    PropertyInfo = PropertyInfo.iloc[:, [0, 8, 9, 10, 11, 12, 13, 14, 15, 16, 18, 19]]\n",
    "\n",
    "    PropertyInfo.columns = [\"TransId\", \"PropertyHouseNumber\", \"PropertyHouseNumberExt\", \"PropertyStreetPreDirectional\", \"PropertyStreetName\", \"PropertyStreetSuffix\", \"PropertyStreetPostDirectional\", \"PropertyBuildingNumber\", \"PropertyFullStreetAddress\", \"PropertyCity\", \"PropertyZip\", \"PropertyZip4\"]\n",
    "\n",
    "    return PropertyInfo"
   ]
  },
  {
   "cell_type": "code",
   "execution_count": 18,
   "metadata": {},
   "outputs": [],
   "source": [
    "def get_main(folder):\n",
    "    Main = pd.read_csv(folder + '\\\\ZTrans\\\\Main.txt', sep='|', on_bad_lines='skip')\n",
    "\n",
    "    Main = Main.iloc[:, [0, 1, 4, 17, 18, 24, 104, 105, 127]]\n",
    "\n",
    "    Main.columns = [\"TransId\", \"FIPS\", \"County\", \"DocumentDate\", \"SignatureDate\", \"SalesPriceAmount\", \"TotalDelinquentAmount\", \"DelinquentAsOfDate\", \"BatchID\"]\n",
    "\n",
    "    return Main"
   ]
  },
  {
   "cell_type": "code",
   "execution_count": 19,
   "metadata": {},
   "outputs": [],
   "source": [
    "def get_sellerMailAddress(folder):\n",
    "    SellerMailAddress = pd.read_csv(folder + '\\\\ZTrans\\\\SellerMailAddress.txt', sep='|', on_bad_lines='skip')\n",
    "\n",
    "    SellerMailAddress = SellerMailAddress.iloc[:, [0, 3, 4, 5, 6, 7, 8, 10, 11, 12, 14, 15]]\n",
    "\n",
    "    SellerMailAddress.columns = [\"TransId\", \"SellerMailHouseNumber\", \"SellerMailHouseNumberExt\", \"SellerMailStreetPreDirectional\", \"SellerMailStreetName\", \"SellerMailStreetSuffix\", \"SellerMailStreetPostDirectional\", \"SellerMailBuildingNumber\", \"SellerMailFullStreetAddress\", \"SellerMailCity\", \"SellerMailZip\", \"SellerMailZip4\"]\n",
    "    return SellerMailAddress"
   ]
  },
  {
   "cell_type": "code",
   "execution_count": 20,
   "metadata": {},
   "outputs": [],
   "source": [
    "def get_buyerMailAddress(folder):\n",
    "    BuyerMailAddress = pd.read_csv(folder + '\\\\ZTrans\\\\BuyerMailAddress.txt', sep='|', on_bad_lines='skip')\n",
    "\n",
    "    BuyerMailAddress = BuyerMailAddress.iloc[:, [0, 3, 4, 5, 6, 7, 8, 10, 11, 12, 14, 15]]\n",
    "\n",
    "    BuyerMailAddress.columns = [\"TransId\", \"BuyerMailHouseNumber\", \"BuyerMailHouseNumberExt\", \"BuyerMailStreetPreDirectional\", \"BuyerMailStreetName\", \"BuyerMailStreetSuffix\", \"BuyerMailStreetPostDirectional\", \"BuyerMailBuildingNumber\", \"BuyerMailFullStreetAddress\", \"BuyerMailCity\", \"BuyerMailZip\", \"BuyerMailZip4\"]\n",
    "\n",
    "    return BuyerMailAddress"
   ]
  },
  {
   "cell_type": "code",
   "execution_count": 21,
   "metadata": {},
   "outputs": [],
   "source": [
    "def get_buyerName(folder):   \n",
    "    BuyerName = pd.read_csv(folder + '\\\\ZTrans\\\\BuyerName.txt', sep='|', on_bad_lines='skip')\n",
    "\n",
    "    BuyerName = BuyerName.iloc[:, [0, 1, 2, 3, 4]]\n",
    "\n",
    "    BuyerName.columns = [\"TransId\", \"BuyerFirstMiddleName\", \"BuyerLastName\", \"BuyerIndividualFullName\", \"BuyerNonIndividualName\"]\n",
    "\n",
    "    return BuyerName"
   ]
  },
  {
   "cell_type": "code",
   "execution_count": 22,
   "metadata": {},
   "outputs": [],
   "source": [
    "def get_sellerName(folder):\n",
    "    SellerName = pd.read_csv(folder + '\\\\ZTrans\\\\SellerName.txt', sep='|', on_bad_lines='skip')\n",
    "\n",
    "    SellerName = SellerName.iloc[:, [0, 1, 2, 3, 4]]\n",
    "\n",
    "    SellerName.columns = [\"TransId\", \"SellerFirstMiddleName\", \"SellerLastName\", \"SellerIndividualFullName\", \"SellerNonIndividualName\"]\n",
    "\n",
    "    return SellerName"
   ]
  },
  {
   "attachments": {},
   "cell_type": "markdown",
   "metadata": {},
   "source": [
    "MODIFY DESIRED COUNTIES HERE. Create a new variable and assign it to a list of counties you want, all lowercase. Then, change the variable located in the isin() function to use these counties.\n",
    "\n",
    "Drops any county not in the 29 county Atlanta MSA from the main dataframe. The \"Main\" file, and the resultant dataframe, is the best source of county information from all of the files; we can assume that every property must have at least an entry in the main file.\n",
    "\n",
    "Soon, we will begin the merging process, starting with the main file. With this assumption, we can speed up the merging process by dropping now and performing a left join on the other files. The alternative would be dropping the counties after the merge, but we would still be using the \"County\" variable from the main dataframe, so it is more efficient to do it now."
   ]
  },
  {
   "cell_type": "code",
   "execution_count": 23,
   "metadata": {},
   "outputs": [],
   "source": [
    "def drop_counties(main):\n",
    "    COUNTIES_ATL = [\"barrow\", \"bartow\", \"butts\", \"carroll\", \"cherokee\", \"clayton\", \"cobb\", \"coweta\", \"dawson\", \"dekalb\", \"douglas\", \"fayette\", \"forsyth\", \"fulton\", \"gwinnett\", \"haralson\", \"heard\", \"henry\", \"jasper\", \"lamar\", \"meriwether\", \"morgan\", \"newton\", \"paulding\", \"pickens\", \"pike\", \"rockdale\", \"spalding\", \"walton\"]\n",
    "    main = main.loc[main['County'].str.lower().isin(COUNTIES_ATL)] # Change (COUNTIES_ATL (OR SIMILIAR) HERE)"
   ]
  },
  {
   "cell_type": "markdown",
   "metadata": {},
   "source": [
    "Merges the dataframes from each file, using a left join. A left join keeps all of the data from the left dataframe and adds matching data from the right dataframe, if there is any. Since we begin the merge with the main dataframe, we are utilizing the assumption that any property will at least have an entry in main. We keep this data throughout and add to it if there is any additional data with a matching RowID via left join.\n",
    "\n",
    "Finally, we drop any duplicates to reduce the data size. The number of dropped entries is also calculated and recorded in the \"data_summary\" file."
   ]
  },
  {
   "cell_type": "code",
   "execution_count": 29,
   "metadata": {},
   "outputs": [],
   "source": [
    "def merge(dataframes):\n",
    "    merged = dataframes[\"main\"].merge(dataframes[\"propertyInfo\"], how=\"left\", on=\"TransId\")\n",
    "\n",
    "    merged = merged.merge(dataframes[\"buyerMailAddress\"], how=\"left\", on=\"TransId\")\n",
    "    merged = merged.merge(dataframes[\"sellerMailAddress\"], how=\"left\", on=\"TransId\")\n",
    "    merged = merged.merge(dataframes[\"buyerName\"], how=\"left\", on=\"TransId\")\n",
    "    merged = merged.merge(dataframes[\"sellerName\"], how=\"left\", on=\"TransId\")\n",
    "    merged = merged.merge(dataframes[\"foreclosureName\"], how=\"left\", on=\"TransId\")\n",
    "\n",
    "    prev_size = len(merged.index)\n",
    "\n",
    "    merged.drop_duplicates(inplace=True)\n",
    "\n",
    "    num_dropped = prev_size - len(merged.index)\n",
    "\n",
    "    return merged, num_dropped"
   ]
  },
  {
   "attachments": {},
   "cell_type": "markdown",
   "metadata": {},
   "source": [
    "Writes the merged dataframe to \"{year/quarter}_trans_out.csv\""
   ]
  },
  {
   "cell_type": "code",
   "execution_count": 25,
   "metadata": {},
   "outputs": [],
   "source": [
    "def write_file(folder, merged):\n",
    "    merged.to_csv(\"out\" + \"\\\\\" + folder + \"_trans_out.csv\")"
   ]
  },
  {
   "cell_type": "markdown",
   "metadata": {},
   "source": [
    "Creates a \"data_summary.txt\" file containing the following for each quarterly data folder:\n",
    "- Execution time (seconds)\n",
    "- Number of dropped duplicates in the merged file.\n",
    "- Summary statistics for each of the original files (excluding those where this information is meaningless, ex: mailAddress): building, buildingAreas, saleData, value, and main.\n",
    "- Summary statistics for the new merged file."
   ]
  },
  {
   "cell_type": "code",
   "execution_count": 26,
   "metadata": {},
   "outputs": [],
   "source": [
    "def create_summary(folder, merged, dataframes, num_dropped, exec_time):\n",
    "    txt = open(\"out\" + \"\\\\\" + folder + \"_trans_data_summary.txt\", 'w')\n",
    "    txt.write(\"Execution time (seconds): \" + str(exec_time))\n",
    "    txt.write(\"\\n\\n\")\n",
    "\n",
    "    txt.write(\"Number of Dropped Duplicates: \" + str(num_dropped))\n",
    "    txt.write(\"\\n\\n\")\n",
    "\n",
    "    txt.write(\"Original Data Statistics\")\n",
    "    txt.write(\"\\n\\n\")\n",
    "\n",
    "    txt.write(\"Main: \")\n",
    "    txt.write(\"\\n\")\n",
    "    txt.write(dataframes[\"main\"].describe().round(2).to_string())\n",
    "    txt.write(\"\\n\\n\")\n",
    "\n",
    "    txt.write(\"BuyerMailAddress: \")\n",
    "    txt.write(\"\\n\")\n",
    "    txt.write(dataframes[\"buyerMailAddress\"].describe().round(2).to_string())\n",
    "    txt.write(\"\\n\\n\")\n",
    "\n",
    "    txt.write(\"SellerMailAddress: \")\n",
    "    txt.write(\"\\n\")\n",
    "    txt.write(dataframes[\"sellerMailAddress\"].describe().round(2).to_string())\n",
    "    txt.write(\"\\n\\n\")\n",
    "\n",
    "    txt.write(\"PropertyInfo: \")\n",
    "    txt.write(\"\\n\")\n",
    "    txt.write(dataframes[\"propertyInfo\"].describe().round(2).to_string())\n",
    "    txt.write(\"\\n\\n\")\n",
    "\n",
    "    txt.write(\"BuyerName: \")\n",
    "    txt.write(\"\\n\")\n",
    "    txt.write(dataframes[\"buyerName\"].describe().round(2).to_string())\n",
    "    txt.write(\"\\n\\n\")\n",
    "    \n",
    "    txt.write(\"SellerName: \")\n",
    "    txt.write(\"\\n\")\n",
    "    txt.write(dataframes[\"sellerName\"].describe().round(2).to_string())\n",
    "    txt.write(\"\\n\\n\")\n",
    "    \n",
    "    txt.write(\"ForeclosureNameAddress: \")\n",
    "    txt.write(\"\\n\")\n",
    "    txt.write(dataframes[\"foreclosureName\"].describe().round(2).to_string())\n",
    "    txt.write(\"\\n\\n\")\n",
    "\n",
    "    txt.write(\"Merged Data Statistics: \")\n",
    "    txt.write(\"\\n\")\n",
    "    txt.write(merged.describe().round(2).to_string())\n",
    "    txt.write(\"\\n\\n\")\n",
    "\n",
    "    txt.close()"
   ]
  }
 ],
 "metadata": {
  "kernelspec": {
   "display_name": "Python 3.9.7 ('base')",
   "language": "python",
   "name": "python3"
  },
  "language_info": {
   "codemirror_mode": {
    "name": "ipython",
    "version": 3
   },
   "file_extension": ".py",
   "mimetype": "text/x-python",
   "name": "python",
   "nbconvert_exporter": "python",
   "pygments_lexer": "ipython3",
   "version": "3.9.7 (default, Sep 16 2021, 16:59:28) [MSC v.1916 64 bit (AMD64)]"
  },
  "orig_nbformat": 4,
  "vscode": {
   "interpreter": {
    "hash": "ad2bdc8ecc057115af97d19610ffacc2b4e99fae6737bb82f5d7fb13d2f2c186"
   }
  }
 },
 "nbformat": 4,
 "nbformat_minor": 2
}
