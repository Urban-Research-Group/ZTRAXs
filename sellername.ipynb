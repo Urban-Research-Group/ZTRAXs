{
 "cells": [
  {
   "cell_type": "code",
   "execution_count": 1,
   "metadata": {},
   "outputs": [],
   "source": [
    "import pandas as pd\n",
    "import csv"
   ]
  },
  {
   "cell_type": "code",
   "execution_count": 2,
   "metadata": {},
   "outputs": [],
   "source": [
    "SellerName = pd.read_csv(\n",
    "        '.\\\\20221103\\\\ZTrans\\\\SellerName.txt',\n",
    "        sep='|',\n",
    "        on_bad_lines='skip',\n",
    "        encoding='latin-1',\n",
    "        quoting=csv.QUOTE_NONE,\n",
    "        header=None,\n",
    "        usecols=[0, 3, 4],\n",
    "        names=[\"TransId\", \"SellerIndividualFullName\", \"SellerNonIndividualName\"],\n",
    "        dtype={\"TransId\": \"Int32\", \"SellerIndividualFullName\": pd.StringDtype(), \"SellerNonIndividualName\": pd.StringDtype()})"
   ]
  },
  {
   "cell_type": "code",
   "execution_count": 3,
   "metadata": {},
   "outputs": [
    {
     "name": "stdout",
     "output_type": "stream",
     "text": [
      "<bound method NDFrame.head of            TransId SellerIndividualFullName     SellerNonIndividualName\n",
      "0        148390440      DAVID ALLEN JOHNSON                        <NA>\n",
      "1        148390441          LENNOX M MORRIS                        <NA>\n",
      "2        148390442  JAMES MITCHELL WILLIAMS                        <NA>\n",
      "3        148390443            HERMAN MOBLEY                        <NA>\n",
      "4        148390445                     <NA>  UNITED STATES DEPARTMENT O\n",
      "...            ...                      ...                         ...\n",
      "5614666  578376772         PAMELA D COCHRAN                        <NA>\n",
      "5614667  578376773             BEN H HELTON                        <NA>\n",
      "5614668  578376774        AMANY T RODRIGUEZ                        <NA>\n",
      "5614669  578376775      CHARLENE N HOLLOWAY                        <NA>\n",
      "5614670  578376776    CECIL EDWARD WILLIAMS                        <NA>\n",
      "\n",
      "[5614671 rows x 3 columns]>\n"
     ]
    }
   ],
   "source": [
    "print(SellerName.head)"
   ]
  },
  {
   "cell_type": "code",
   "execution_count": null,
   "metadata": {},
   "outputs": [],
   "source": [
    "SellerName_mod = SellerName.fillna(\"NA\")"
   ]
  },
  {
   "cell_type": "code",
   "execution_count": null,
   "metadata": {},
   "outputs": [],
   "source": [
    "SellerNameInd = SellerName_mod.groupby(\"TransId\")['SellerIndividualFullName'].agg(','.join)"
   ]
  },
  {
   "cell_type": "code",
   "execution_count": null,
   "metadata": {},
   "outputs": [],
   "source": [
    "SellerNameNon = SellerName_mod.groupby(\"TransId\")['SellerNonIndividualName'].agg(','.join)"
   ]
  },
  {
   "cell_type": "code",
   "execution_count": null,
   "metadata": {},
   "outputs": [],
   "source": [
    "merged = pd.merge(SellerNameInd, SellerNameNon, how=\"inner\", on=\"TransId\")"
   ]
  },
  {
   "cell_type": "code",
   "execution_count": null,
   "metadata": {},
   "outputs": [],
   "source": [
    "merged.to_csv(\"SellerNameAgg.csv\")"
   ]
  }
 ],
 "metadata": {
  "kernelspec": {
   "display_name": "base",
   "language": "python",
   "name": "python3"
  },
  "language_info": {
   "codemirror_mode": {
    "name": "ipython",
    "version": 3
   },
   "file_extension": ".py",
   "mimetype": "text/x-python",
   "name": "python",
   "nbconvert_exporter": "python",
   "pygments_lexer": "ipython3",
   "version": "3.9.7"
  },
  "orig_nbformat": 4
 },
 "nbformat": 4,
 "nbformat_minor": 2
}
