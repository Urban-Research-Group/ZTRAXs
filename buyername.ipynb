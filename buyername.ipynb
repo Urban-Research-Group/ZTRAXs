{
 "cells": [
  {
   "cell_type": "code",
   "execution_count": 3,
   "metadata": {},
   "outputs": [],
   "source": [
    "import pandas as pd\n",
    "import csv"
   ]
  },
  {
   "cell_type": "code",
   "execution_count": 35,
   "metadata": {},
   "outputs": [],
   "source": [
    "BuyerName = pd.read_csv(\n",
    "        '.\\\\20221103\\\\ZTrans\\\\BuyerName.txt',\n",
    "        sep='|',\n",
    "        on_bad_lines='skip',\n",
    "        encoding='latin-1',\n",
    "        quoting=csv.QUOTE_NONE,\n",
    "        header=None,\n",
    "        usecols=[0, 3, 4],\n",
    "        names=[\"TransId\", \"BuyerIndividualFullName\", \"BuyerNonIndividualName\"],\n",
    "        dtype={\"TransId\": \"Int32\", \"BuyerFirstMiddleName\": pd.StringDtype(), \"BuyerLastName\": pd.StringDtype(), \"BuyerIndividualFullName\": pd.StringDtype(), \"BuyerNonIndividualName\": pd.StringDtype(), \"BuyerNameSequenceNumber\": \"Int16\"})"
   ]
  },
  {
   "cell_type": "code",
   "execution_count": 36,
   "metadata": {},
   "outputs": [
    {
     "name": "stdout",
     "output_type": "stream",
     "text": [
      "<bound method NDFrame.head of            TransId  BuyerIndividualFullName BuyerNonIndividualName\n",
      "0        148390440            CURT MATULICH                   <NA>\n",
      "1        148390440         REBECCA MATULICH                   <NA>\n",
      "2        148390441          LIZZIE M SAILEM                   <NA>\n",
      "3        148390442          ROBERT RICHBURG                   <NA>\n",
      "4        148390442           TAMMY RICHBURG                   <NA>\n",
      "...            ...                      ...                    ...\n",
      "6926114  578458860             KEVIN MUNDLE                   <NA>\n",
      "6926115  578458861  SAMANTHA ANTONIA THORPE                   <NA>\n",
      "6926116  578458862                     <NA>      BCB ENTITLES, LLC\n",
      "6926117  578458863                     <NA>      MADISON STAR, LLC\n",
      "6926118  578458864   JAMES CHRISTOPHER TURK                   <NA>\n",
      "\n",
      "[6926119 rows x 3 columns]>\n"
     ]
    }
   ],
   "source": [
    "print(BuyerName.head)"
   ]
  },
  {
   "cell_type": "code",
   "execution_count": 47,
   "metadata": {},
   "outputs": [],
   "source": [
    "BuyerName_mod = BuyerName.fillna(\"NA\")"
   ]
  },
  {
   "cell_type": "code",
   "execution_count": 48,
   "metadata": {},
   "outputs": [
    {
     "name": "stdout",
     "output_type": "stream",
     "text": [
      "<bound method NDFrame.head of            TransId  BuyerIndividualFullName BuyerNonIndividualName\n",
      "0        148390440            CURT MATULICH                     NA\n",
      "1        148390440         REBECCA MATULICH                     NA\n",
      "2        148390441          LIZZIE M SAILEM                     NA\n",
      "3        148390442          ROBERT RICHBURG                     NA\n",
      "4        148390442           TAMMY RICHBURG                     NA\n",
      "...            ...                      ...                    ...\n",
      "6926114  578458860             KEVIN MUNDLE                     NA\n",
      "6926115  578458861  SAMANTHA ANTONIA THORPE                     NA\n",
      "6926116  578458862                       NA      BCB ENTITLES, LLC\n",
      "6926117  578458863                       NA      MADISON STAR, LLC\n",
      "6926118  578458864   JAMES CHRISTOPHER TURK                     NA\n",
      "\n",
      "[6926119 rows x 3 columns]>\n"
     ]
    }
   ],
   "source": [
    "print(BuyerName_mod.head)"
   ]
  },
  {
   "cell_type": "code",
   "execution_count": 49,
   "metadata": {},
   "outputs": [],
   "source": [
    "BuyerNameInd = BuyerName_mod.groupby(\"TransId\")['BuyerIndividualFullName'].agg(','.join)"
   ]
  },
  {
   "cell_type": "code",
   "execution_count": 50,
   "metadata": {},
   "outputs": [
    {
     "name": "stdout",
     "output_type": "stream",
     "text": [
      "<bound method NDFrame.head of TransId\n",
      "148390440    CURT MATULICH,REBECCA MATULICH\n",
      "148390441                   LIZZIE M SAILEM\n",
      "148390442    ROBERT RICHBURG,TAMMY RICHBURG\n",
      "148390443                  SHERMAN WILLIAMS\n",
      "148390445                  JOHN A BOATRIGHT\n",
      "                          ...              \n",
      "578458860      ASHLEIGH MUNDLE,KEVIN MUNDLE\n",
      "578458861           SAMANTHA ANTONIA THORPE\n",
      "578458862                                NA\n",
      "578458863                                NA\n",
      "578458864            JAMES CHRISTOPHER TURK\n",
      "Name: BuyerIndividualFullName, Length: 5393413, dtype: string>\n"
     ]
    }
   ],
   "source": [
    "print(BuyerNameInd.head)"
   ]
  },
  {
   "cell_type": "code",
   "execution_count": 51,
   "metadata": {},
   "outputs": [],
   "source": [
    "BuyerNameNon = BuyerName_mod.groupby(\"TransId\")['BuyerNonIndividualName'].agg(','.join)"
   ]
  },
  {
   "cell_type": "code",
   "execution_count": 52,
   "metadata": {},
   "outputs": [
    {
     "data": {
      "text/plain": [
       "<bound method NDFrame.head of TransId\n",
       "148390440                NA,NA\n",
       "148390441                   NA\n",
       "148390442                NA,NA\n",
       "148390443                   NA\n",
       "148390445                   NA\n",
       "                   ...        \n",
       "578458860                NA,NA\n",
       "578458861                   NA\n",
       "578458862    BCB ENTITLES, LLC\n",
       "578458863    MADISON STAR, LLC\n",
       "578458864                   NA\n",
       "Name: BuyerNonIndividualName, Length: 5393413, dtype: string>"
      ]
     },
     "execution_count": 52,
     "metadata": {},
     "output_type": "execute_result"
    }
   ],
   "source": [
    "BuyerNameNon.head"
   ]
  },
  {
   "cell_type": "code",
   "execution_count": 63,
   "metadata": {},
   "outputs": [
    {
     "ename": "TypeError",
     "evalue": "merge() got an unexpected keyword argument 'index'",
     "output_type": "error",
     "traceback": [
      "\u001b[1;31m---------------------------------------------------------------------------\u001b[0m",
      "\u001b[1;31mTypeError\u001b[0m                                 Traceback (most recent call last)",
      "\u001b[1;32mC:\\Users\\NPOLIM~1\\AppData\\Local\\Temp\\63/ipykernel_93892/2500060119.py\u001b[0m in \u001b[0;36m<module>\u001b[1;34m\u001b[0m\n\u001b[1;32m----> 1\u001b[1;33m \u001b[0mmerged\u001b[0m \u001b[1;33m=\u001b[0m \u001b[0mpd\u001b[0m\u001b[1;33m.\u001b[0m\u001b[0mmerge\u001b[0m\u001b[1;33m(\u001b[0m\u001b[0mBuyerNameInd\u001b[0m\u001b[1;33m,\u001b[0m \u001b[0mBuyerNameNon\u001b[0m\u001b[1;33m,\u001b[0m \u001b[0mhow\u001b[0m\u001b[1;33m=\u001b[0m\u001b[1;34m\"inner\"\u001b[0m\u001b[1;33m,\u001b[0m \u001b[0mon\u001b[0m\u001b[1;33m=\u001b[0m\u001b[1;34m\"TransId\"\u001b[0m\u001b[1;33m,\u001b[0m \u001b[0mindex\u001b[0m\u001b[1;33m=\u001b[0m\u001b[1;32mFalse\u001b[0m\u001b[1;33m)\u001b[0m\u001b[1;33m\u001b[0m\u001b[1;33m\u001b[0m\u001b[0m\n\u001b[0m",
      "\u001b[1;31mTypeError\u001b[0m: merge() got an unexpected keyword argument 'index'"
     ]
    }
   ],
   "source": [
    "merged = pd.merge(BuyerNameInd, BuyerNameNon, how=\"inner\", on=\"TransId\")"
   ]
  },
  {
   "cell_type": "code",
   "execution_count": 55,
   "metadata": {},
   "outputs": [
    {
     "name": "stdout",
     "output_type": "stream",
     "text": [
      "<bound method NDFrame.head of                   BuyerIndividualFullName BuyerNonIndividualName\n",
      "TransId                                                         \n",
      "148390440  CURT MATULICH,REBECCA MATULICH                  NA,NA\n",
      "148390441                 LIZZIE M SAILEM                     NA\n",
      "148390442  ROBERT RICHBURG,TAMMY RICHBURG                  NA,NA\n",
      "148390443                SHERMAN WILLIAMS                     NA\n",
      "148390445                JOHN A BOATRIGHT                     NA\n",
      "...                                   ...                    ...\n",
      "578458860    ASHLEIGH MUNDLE,KEVIN MUNDLE                  NA,NA\n",
      "578458861         SAMANTHA ANTONIA THORPE                     NA\n",
      "578458862                              NA      BCB ENTITLES, LLC\n",
      "578458863                              NA      MADISON STAR, LLC\n",
      "578458864          JAMES CHRISTOPHER TURK                     NA\n",
      "\n",
      "[5393413 rows x 2 columns]>\n"
     ]
    }
   ],
   "source": [
    "print(merged.head)"
   ]
  },
  {
   "cell_type": "code",
   "execution_count": 61,
   "metadata": {},
   "outputs": [
    {
     "name": "stdout",
     "output_type": "stream",
     "text": [
      "Index(['BuyerIndividualFullName', 'BuyerNonIndividualName'], dtype='object')\n"
     ]
    }
   ],
   "source": [
    "print(merged.columns)"
   ]
  },
  {
   "cell_type": "code",
   "execution_count": null,
   "metadata": {},
   "outputs": [],
   "source": [
    "merged[\"BuyerIndividualFullName\"] = merged[\"BuyerIndividualFullName\"]"
   ]
  },
  {
   "cell_type": "code",
   "execution_count": 65,
   "metadata": {},
   "outputs": [],
   "source": [
    "merged.to_csv(\"BuyerNameAgg.csv\")"
   ]
  },
  {
   "cell_type": "code",
   "execution_count": 64,
   "metadata": {},
   "outputs": [
    {
     "ename": "KeyError",
     "evalue": "0",
     "output_type": "error",
     "traceback": [
      "\u001b[1;31m---------------------------------------------------------------------------\u001b[0m",
      "\u001b[1;31mKeyError\u001b[0m                                  Traceback (most recent call last)",
      "\u001b[1;32mc:\\ProgramData\\Anaconda3\\lib\\site-packages\\pandas\\core\\indexes\\base.py\u001b[0m in \u001b[0;36mget_loc\u001b[1;34m(self, key, method, tolerance)\u001b[0m\n\u001b[0;32m   3360\u001b[0m             \u001b[1;32mtry\u001b[0m\u001b[1;33m:\u001b[0m\u001b[1;33m\u001b[0m\u001b[1;33m\u001b[0m\u001b[0m\n\u001b[1;32m-> 3361\u001b[1;33m                 \u001b[1;32mreturn\u001b[0m \u001b[0mself\u001b[0m\u001b[1;33m.\u001b[0m\u001b[0m_engine\u001b[0m\u001b[1;33m.\u001b[0m\u001b[0mget_loc\u001b[0m\u001b[1;33m(\u001b[0m\u001b[0mcasted_key\u001b[0m\u001b[1;33m)\u001b[0m\u001b[1;33m\u001b[0m\u001b[1;33m\u001b[0m\u001b[0m\n\u001b[0m\u001b[0;32m   3362\u001b[0m             \u001b[1;32mexcept\u001b[0m \u001b[0mKeyError\u001b[0m \u001b[1;32mas\u001b[0m \u001b[0merr\u001b[0m\u001b[1;33m:\u001b[0m\u001b[1;33m\u001b[0m\u001b[1;33m\u001b[0m\u001b[0m\n",
      "\u001b[1;32mc:\\ProgramData\\Anaconda3\\lib\\site-packages\\pandas\\_libs\\index.pyx\u001b[0m in \u001b[0;36mpandas._libs.index.IndexEngine.get_loc\u001b[1;34m()\u001b[0m\n",
      "\u001b[1;32mc:\\ProgramData\\Anaconda3\\lib\\site-packages\\pandas\\_libs\\index.pyx\u001b[0m in \u001b[0;36mpandas._libs.index.IndexEngine.get_loc\u001b[1;34m()\u001b[0m\n",
      "\u001b[1;32mpandas\\_libs\\hashtable_class_helper.pxi\u001b[0m in \u001b[0;36mpandas._libs.hashtable.PyObjectHashTable.get_item\u001b[1;34m()\u001b[0m\n",
      "\u001b[1;32mpandas\\_libs\\hashtable_class_helper.pxi\u001b[0m in \u001b[0;36mpandas._libs.hashtable.PyObjectHashTable.get_item\u001b[1;34m()\u001b[0m\n",
      "\u001b[1;31mKeyError\u001b[0m: 0",
      "\nThe above exception was the direct cause of the following exception:\n",
      "\u001b[1;31mKeyError\u001b[0m                                  Traceback (most recent call last)",
      "\u001b[1;32mC:\\Users\\NPOLIM~1\\AppData\\Local\\Temp\\63/ipykernel_93892/3936658046.py\u001b[0m in \u001b[0;36m<module>\u001b[1;34m\u001b[0m\n\u001b[1;32m----> 1\u001b[1;33m \u001b[0mprint\u001b[0m\u001b[1;33m(\u001b[0m\u001b[0mlen\u001b[0m\u001b[1;33m(\u001b[0m\u001b[0mmerged\u001b[0m\u001b[1;33m[\u001b[0m\u001b[1;36m0\u001b[0m\u001b[1;33m]\u001b[0m\u001b[1;33m)\u001b[0m\u001b[1;33m-\u001b[0m\u001b[0mlen\u001b[0m\u001b[1;33m(\u001b[0m\u001b[0mmerged\u001b[0m\u001b[1;33m[\u001b[0m\u001b[1;36m0\u001b[0m\u001b[1;33m]\u001b[0m\u001b[1;33m.\u001b[0m\u001b[0mdrop_duplicates\u001b[0m\u001b[1;33m(\u001b[0m\u001b[1;33m)\u001b[0m\u001b[1;33m)\u001b[0m\u001b[1;33m)\u001b[0m\u001b[1;33m\u001b[0m\u001b[1;33m\u001b[0m\u001b[0m\n\u001b[0m",
      "\u001b[1;32mc:\\ProgramData\\Anaconda3\\lib\\site-packages\\pandas\\core\\frame.py\u001b[0m in \u001b[0;36m__getitem__\u001b[1;34m(self, key)\u001b[0m\n\u001b[0;32m   3456\u001b[0m             \u001b[1;32mif\u001b[0m \u001b[0mself\u001b[0m\u001b[1;33m.\u001b[0m\u001b[0mcolumns\u001b[0m\u001b[1;33m.\u001b[0m\u001b[0mnlevels\u001b[0m \u001b[1;33m>\u001b[0m \u001b[1;36m1\u001b[0m\u001b[1;33m:\u001b[0m\u001b[1;33m\u001b[0m\u001b[1;33m\u001b[0m\u001b[0m\n\u001b[0;32m   3457\u001b[0m                 \u001b[1;32mreturn\u001b[0m \u001b[0mself\u001b[0m\u001b[1;33m.\u001b[0m\u001b[0m_getitem_multilevel\u001b[0m\u001b[1;33m(\u001b[0m\u001b[0mkey\u001b[0m\u001b[1;33m)\u001b[0m\u001b[1;33m\u001b[0m\u001b[1;33m\u001b[0m\u001b[0m\n\u001b[1;32m-> 3458\u001b[1;33m             \u001b[0mindexer\u001b[0m \u001b[1;33m=\u001b[0m \u001b[0mself\u001b[0m\u001b[1;33m.\u001b[0m\u001b[0mcolumns\u001b[0m\u001b[1;33m.\u001b[0m\u001b[0mget_loc\u001b[0m\u001b[1;33m(\u001b[0m\u001b[0mkey\u001b[0m\u001b[1;33m)\u001b[0m\u001b[1;33m\u001b[0m\u001b[1;33m\u001b[0m\u001b[0m\n\u001b[0m\u001b[0;32m   3459\u001b[0m             \u001b[1;32mif\u001b[0m \u001b[0mis_integer\u001b[0m\u001b[1;33m(\u001b[0m\u001b[0mindexer\u001b[0m\u001b[1;33m)\u001b[0m\u001b[1;33m:\u001b[0m\u001b[1;33m\u001b[0m\u001b[1;33m\u001b[0m\u001b[0m\n\u001b[0;32m   3460\u001b[0m                 \u001b[0mindexer\u001b[0m \u001b[1;33m=\u001b[0m \u001b[1;33m[\u001b[0m\u001b[0mindexer\u001b[0m\u001b[1;33m]\u001b[0m\u001b[1;33m\u001b[0m\u001b[1;33m\u001b[0m\u001b[0m\n",
      "\u001b[1;32mc:\\ProgramData\\Anaconda3\\lib\\site-packages\\pandas\\core\\indexes\\base.py\u001b[0m in \u001b[0;36mget_loc\u001b[1;34m(self, key, method, tolerance)\u001b[0m\n\u001b[0;32m   3361\u001b[0m                 \u001b[1;32mreturn\u001b[0m \u001b[0mself\u001b[0m\u001b[1;33m.\u001b[0m\u001b[0m_engine\u001b[0m\u001b[1;33m.\u001b[0m\u001b[0mget_loc\u001b[0m\u001b[1;33m(\u001b[0m\u001b[0mcasted_key\u001b[0m\u001b[1;33m)\u001b[0m\u001b[1;33m\u001b[0m\u001b[1;33m\u001b[0m\u001b[0m\n\u001b[0;32m   3362\u001b[0m             \u001b[1;32mexcept\u001b[0m \u001b[0mKeyError\u001b[0m \u001b[1;32mas\u001b[0m \u001b[0merr\u001b[0m\u001b[1;33m:\u001b[0m\u001b[1;33m\u001b[0m\u001b[1;33m\u001b[0m\u001b[0m\n\u001b[1;32m-> 3363\u001b[1;33m                 \u001b[1;32mraise\u001b[0m \u001b[0mKeyError\u001b[0m\u001b[1;33m(\u001b[0m\u001b[0mkey\u001b[0m\u001b[1;33m)\u001b[0m \u001b[1;32mfrom\u001b[0m \u001b[0merr\u001b[0m\u001b[1;33m\u001b[0m\u001b[1;33m\u001b[0m\u001b[0m\n\u001b[0m\u001b[0;32m   3364\u001b[0m \u001b[1;33m\u001b[0m\u001b[0m\n\u001b[0;32m   3365\u001b[0m         \u001b[1;32mif\u001b[0m \u001b[0mis_scalar\u001b[0m\u001b[1;33m(\u001b[0m\u001b[0mkey\u001b[0m\u001b[1;33m)\u001b[0m \u001b[1;32mand\u001b[0m \u001b[0misna\u001b[0m\u001b[1;33m(\u001b[0m\u001b[0mkey\u001b[0m\u001b[1;33m)\u001b[0m \u001b[1;32mand\u001b[0m \u001b[1;32mnot\u001b[0m \u001b[0mself\u001b[0m\u001b[1;33m.\u001b[0m\u001b[0mhasnans\u001b[0m\u001b[1;33m:\u001b[0m\u001b[1;33m\u001b[0m\u001b[1;33m\u001b[0m\u001b[0m\n",
      "\u001b[1;31mKeyError\u001b[0m: 0"
     ]
    }
   ],
   "source": [
    "print(len(merged[0])-len(merged[0].drop_duplicates()))"
   ]
  },
  {
   "cell_type": "code",
   "execution_count": 70,
   "metadata": {},
   "outputs": [],
   "source": [
    "test = pd.read_csv(\n",
    "        './20221103/ZTrans/BuyerNameAgg.csv',\n",
    "        dtype={\"TransId\": \"Int32\", \"BuyerIndividualFullName\": pd.StringDtype(), \"BuyerNonIndividualName\": pd.StringDtype()})"
   ]
  },
  {
   "cell_type": "code",
   "execution_count": 71,
   "metadata": {},
   "outputs": [
    {
     "name": "stdout",
     "output_type": "stream",
     "text": [
      "Index(['TransId', 'BuyerIndividualFullName', 'BuyerNonIndividualName'], dtype='object')\n"
     ]
    }
   ],
   "source": [
    "print(test.columns)"
   ]
  },
  {
   "cell_type": "code",
   "execution_count": 73,
   "metadata": {},
   "outputs": [],
   "source": [
    "PropertyInfo = pd.read_csv(\n",
    "        './20221103/ZTrans/PropertyInfo.txt',\n",
    "        sep='|',\n",
    "        on_bad_lines='skip',\n",
    "        encoding='latin-1',\n",
    "        quoting=csv.QUOTE_NONE,\n",
    "        header=None,\n",
    "        usecols=[0, 8, 9, 10, 11, 12, 13, 14, 15, 16, 18, 19, 64],\n",
    "        names=[\"TransId\", \"PropertyHouseNumber\", \"PropertyHouseNumberExt\", \"PropertyStreetPreDirectional\", \"PropertyStreetName\", \"PropertyStreetSuffix\", \"PropertyStreetPostDirectional\",\n",
    "            \"PropertyBuildingNumber\", \"PropertyFullStreetAddress\", \"PropertyCity\", \"PropertyZip\", \"PropertyZip4\", \"ImportParcelID\"],\n",
    "        dtype={\"TransId\": \"Int32\", \"PropertyHouseNumber\": pd.StringDtype(), \"PropertyHouseNumberExt\": pd.StringDtype(), \"PropertyStreetPreDirectional\": \"category\", \"PropertyStreetName\": pd.StringDtype(), \"PropertyStreetSuffix\": pd.StringDtype(), \"PropertyStreetPostDirectional\": \"category\",\n",
    "            \"PropertyBuildingNumber\": pd.StringDtype(), \"PropertyFullStreetAddress\": pd.StringDtype(), \"PropertyCity\": \"category\", \"PropertyZip\": \"category\", \"PropertyZip4\": \"category\", \"ImportParcelID\": \"Int32\"})"
   ]
  },
  {
   "cell_type": "code",
   "execution_count": 76,
   "metadata": {},
   "outputs": [
    {
     "name": "stdout",
     "output_type": "stream",
     "text": [
      "(12143232, 13)\n"
     ]
    }
   ],
   "source": [
    "PropertyAgg = PropertyInfo.drop_duplicates(keep=\"first\")\n",
    "print(PropertyAgg.shape)"
   ]
  },
  {
   "cell_type": "code",
   "execution_count": 78,
   "metadata": {},
   "outputs": [],
   "source": [
    "PropertyAgg.to_csv(\"PropertyAgg.csv\")"
   ]
  },
  {
   "cell_type": "code",
   "execution_count": 77,
   "metadata": {},
   "outputs": [
    {
     "name": "stdout",
     "output_type": "stream",
     "text": [
      "(12169233, 13)\n"
     ]
    }
   ],
   "source": [
    "print(PropertyInfo.shape)"
   ]
  },
  {
   "cell_type": "code",
   "execution_count": 81,
   "metadata": {},
   "outputs": [
    {
     "name": "stdout",
     "output_type": "stream",
     "text": [
      "(11728894, 13)\n"
     ]
    }
   ],
   "source": [
    "PropertyAgg = PropertyInfo.drop_duplicates(subset=\"TransId\", keep=\"first\")\n",
    "print(PropertyAgg.shape)"
   ]
  },
  {
   "cell_type": "code",
   "execution_count": 85,
   "metadata": {},
   "outputs": [],
   "source": [
    "PropertyAgg.to_csv(\"PropertyAgg.csv\")"
   ]
  },
  {
   "cell_type": "code",
   "execution_count": 79,
   "metadata": {},
   "outputs": [],
   "source": [
    "    BuyerMailAddress = pd.read_csv(\n",
    "        './20221103/ZTrans/BuyerMailAddress.txt',\n",
    "        sep='|',\n",
    "        on_bad_lines='skip',\n",
    "        encoding='latin-1',\n",
    "        quoting=csv.QUOTE_NONE,\n",
    "        header=None,\n",
    "        usecols=[0, 3, 4, 5, 6, 7, 8, 10, 11, 12, 14, 15],\n",
    "        names=[\"TransId\", \"BuyerMailHouseNumber\", \"BuyerMailHouseNumberExt\", \"BuyerMailStreetPreDirectional\", \"BuyerMailStreetName\", \"BuyerMailStreetSuffix\", \"BuyerMailStreetPostDirectional\",\n",
    "            \"BuyerMailBuildingNumber\", \"BuyerMailFullStreetAddress\", \"BuyerMailCity\", \"BuyerMailZip\", \"BuyerMailZip4\"],\n",
    "        dtype={\"TransId\": \"Int32\", \"BuyerMailHouseNumber\": pd.StringDtype(), \"BuyerMailHouseNumberExt\": pd.StringDtype(), \"BuyerMailStreetPreDirectional\": \"category\", \"BuyerMailStreetName\": pd.StringDtype(), \"BuyerMailStreetSuffix\": pd.StringDtype(), \"BuyerMailStreetPostDirectional\": \"category\",\n",
    "            \"BuyerMailBuildingNumber\": pd.StringDtype(), \"BuyerMailFullStreetAddress\": pd.StringDtype(), \"BuyerMailCity\": \"category\", \"BuyerMailZip\": \"category\", \"BuyerMailZip4\": \"category\"})"
   ]
  },
  {
   "cell_type": "code",
   "execution_count": 83,
   "metadata": {},
   "outputs": [
    {
     "name": "stdout",
     "output_type": "stream",
     "text": [
      "(5521686, 12)\n",
      "(5369512, 12)\n"
     ]
    }
   ],
   "source": [
    "BuyerMailAgg = BuyerMailAddress.drop_duplicates(subset='TransId', keep=\"first\")\n",
    "print(BuyerMailAddress.shape)\n",
    "print(BuyerMailAgg.shape)"
   ]
  },
  {
   "cell_type": "code",
   "execution_count": 84,
   "metadata": {},
   "outputs": [],
   "source": [
    "BuyerMailAgg.to_csv(\"BuyerMailAgg.csv\")"
   ]
  }
 ],
 "metadata": {
  "kernelspec": {
   "display_name": "base",
   "language": "python",
   "name": "python3"
  },
  "language_info": {
   "codemirror_mode": {
    "name": "ipython",
    "version": 3
   },
   "file_extension": ".py",
   "mimetype": "text/x-python",
   "name": "python",
   "nbconvert_exporter": "python",
   "pygments_lexer": "ipython3",
   "version": "3.9.7"
  },
  "orig_nbformat": 4
 },
 "nbformat": 4,
 "nbformat_minor": 2
}
